{
 "cells": [
  {
   "cell_type": "code",
   "execution_count": 3,
   "metadata": {},
   "outputs": [],
   "source": [
    "from pathlib import Path\n",
    "import pandas as pd"
   ]
  },
  {
   "cell_type": "code",
   "execution_count": 12,
   "metadata": {},
   "outputs": [],
   "source": [
    "def analyze_speed(csv_dir: str, base_file_name: str) -> dict:\n",
    "    graph_csv_files = Path(csv_dir).rglob(f'{base_file_name}*.csv')\n",
    "    results = {}\n",
    "\n",
    "    for csv_file in sorted(graph_csv_files):\n",
    "        try:\n",
    "            df = pd.read_csv(csv_file)\n",
    "            if df.empty:\n",
    "                results[csv_file.name] = 'CSV file is empty.'\n",
    "                continue\n",
    "\n",
    "            df.set_index('Environment', inplace=True)\n",
    "            mean_values = df.mean(axis=1)\n",
    "            sorted_means = mean_values.sort_values(ascending=True)\n",
    "\n",
    "            notes = []\n",
    "            for i in range(len(sorted_means) - 1):\n",
    "                faster_env = sorted_means.index[i]\n",
    "                slower_env = sorted_means.index[i + 1]\n",
    "                if sorted_means.iloc[i + 1] != 0:\n",
    "                    speedup = f'{sorted_means.iloc[i + 1] / sorted_means.iloc[i]:.2f}'\n",
    "                    notes.append(f\"{faster_env} is {speedup} times faster than {slower_env}\")\n",
    "                elif sorted_means.iloc[i] == 0:\n",
    "                    notes.append(f\"{faster_env} and {slower_env} have the same speed\")\n",
    "                else:\n",
    "                    notes.append(f\"{slower_env} is infinitely slower than {faster_env}\")\n",
    "\n",
    "            results[csv_file.name] = ' and '.join(notes) if notes else 'No significant difference in speed.'\n",
    "        except Exception as e:\n",
    "            results[csv_file.name] = f'Error processing file: {str(e)}'\n",
    "\n",
    "    return results"
   ]
  },
  {
   "cell_type": "code",
   "execution_count": 13,
   "metadata": {},
   "outputs": [
    {
     "name": "stderr",
     "output_type": "stream",
     "text": [
      "/var/folders/8w/npw5m4xx43s5l8h9xppvy2jh0000gn/T/ipykernel_77455/3703558015.py:21: RuntimeWarning: divide by zero encountered in scalar divide\n",
      "  speedup = f'{sorted_means.iloc[i + 1] / sorted_means.iloc[i]:.2f}'\n"
     ]
    },
    {
     "data": {
      "text/plain": [
       "{'double_recursion_binary_tree.csv': 'xsb is 4.24 times faster than clingo and clingo is 2.66 times faster than souffle',\n",
       " 'double_recursion_complete.csv': 'xsb is 3.45 times faster than clingo and clingo is 1.77 times faster than souffle',\n",
       " 'double_recursion_cycle.csv': 'xsb is 1.89 times faster than clingo and clingo is 2.86 times faster than souffle',\n",
       " 'double_recursion_cycle_with_shortcuts.csv': 'xsb is 1.80 times faster than clingo and clingo is 2.86 times faster than souffle',\n",
       " 'double_recursion_max_acyclic.csv': 'xsb is 2.40 times faster than clingo and clingo is 2.82 times faster than souffle',\n",
       " 'double_recursion_multi_path.csv': 'xsb is 3.33 times faster than clingo and clingo is 3.05 times faster than souffle',\n",
       " 'double_recursion_path.csv': 'xsb is 2.20 times faster than clingo and clingo is 3.01 times faster than souffle',\n",
       " 'double_recursion_reverse_binary_tree.csv': 'xsb is 5.65 times faster than clingo and clingo is 2.71 times faster than souffle',\n",
       " 'double_recursion_star.csv': 'clingo is inf times faster than xsb and xsb is 3.80 times faster than souffle',\n",
       " 'double_recursion_w.csv': 'xsb is 2.21 times faster than clingo and clingo is 2.79 times faster than souffle',\n",
       " 'double_recursion_x.csv': 'xsb is 2.20 times faster than clingo and clingo is 3.01 times faster than souffle',\n",
       " 'double_recursion_y.csv': 'xsb is 3.53 times faster than clingo and clingo is 2.74 times faster than souffle'}"
      ]
     },
     "execution_count": 13,
     "metadata": {},
     "output_type": "execute_result"
    }
   ],
   "source": [
    "# Get all double_recursion csv files from output/CSVs directory\n",
    "csv_files = Path('output/CSVs')\n",
    "\n",
    "# Analyze speed of double_recursion\n",
    "double_recursion_speed_results = analyze_speed(csv_files, 'double_recursion')\n",
    "double_recursion_speed_results\n",
    "\n"
   ]
  },
  {
   "cell_type": "code",
   "execution_count": 14,
   "metadata": {},
   "outputs": [
    {
     "name": "stderr",
     "output_type": "stream",
     "text": [
      "/var/folders/8w/npw5m4xx43s5l8h9xppvy2jh0000gn/T/ipykernel_77455/3703558015.py:21: RuntimeWarning: divide by zero encountered in scalar divide\n",
      "  speedup = f'{sorted_means.iloc[i + 1] / sorted_means.iloc[i]:.2f}'\n"
     ]
    },
    {
     "data": {
      "text/plain": [
       "{'left_recursion_binary_tree.csv': 'xsb is 5.65 times faster than clingo and clingo is 1.62 times faster than souffle',\n",
       " 'left_recursion_complete.csv': 'xsb is 2.85 times faster than clingo and clingo is 1.62 times faster than souffle',\n",
       " 'left_recursion_cycle.csv': 'xsb is 7.44 times faster than clingo and clingo is 1.63 times faster than souffle',\n",
       " 'left_recursion_cycle_with_shortcuts.csv': 'xsb is 6.87 times faster than clingo and clingo is 1.49 times faster than souffle',\n",
       " 'left_recursion_max_acyclic.csv': 'xsb is 2.04 times faster than clingo and clingo is 1.69 times faster than souffle',\n",
       " 'left_recursion_multi_path.csv': 'xsb is 8.67 times faster than clingo and clingo is 1.36 times faster than souffle',\n",
       " 'left_recursion_path.csv': 'xsb is 7.51 times faster than clingo and clingo is 1.66 times faster than souffle',\n",
       " 'left_recursion_reverse_binary_tree.csv': 'xsb is 7.02 times faster than clingo and clingo is 1.65 times faster than souffle',\n",
       " 'left_recursion_star.csv': 'clingo is inf times faster than xsb and xsb is 3.65 times faster than souffle',\n",
       " 'left_recursion_w.csv': 'xsb is 3.90 times faster than clingo and clingo is 1.56 times faster than souffle',\n",
       " 'left_recursion_x.csv': 'xsb is 2.85 times faster than clingo and clingo is 1.41 times faster than souffle',\n",
       " 'left_recursion_y.csv': 'xsb is 9.13 times faster than clingo and clingo is 1.24 times faster than souffle'}"
      ]
     },
     "execution_count": 14,
     "metadata": {},
     "output_type": "execute_result"
    }
   ],
   "source": [
    "left_recursion_speed_results = analyze_speed(csv_files, 'left_recursion')\n",
    "left_recursion_speed_results"
   ]
  },
  {
   "cell_type": "code",
   "execution_count": 15,
   "metadata": {},
   "outputs": [
    {
     "name": "stderr",
     "output_type": "stream",
     "text": [
      "/var/folders/8w/npw5m4xx43s5l8h9xppvy2jh0000gn/T/ipykernel_77455/3703558015.py:21: RuntimeWarning: divide by zero encountered in scalar divide\n",
      "  speedup = f'{sorted_means.iloc[i + 1] / sorted_means.iloc[i]:.2f}'\n"
     ]
    },
    {
     "data": {
      "text/plain": [
       "{'right_recursion_binary_tree.csv': 'xsb is 5.23 times faster than clingo and clingo is 1.71 times faster than souffle',\n",
       " 'right_recursion_complete.csv': 'xsb is 3.07 times faster than souffle and souffle is 1.15 times faster than clingo',\n",
       " 'right_recursion_cycle.csv': 'xsb is 8.29 times faster than clingo and clingo is 1.65 times faster than souffle',\n",
       " 'right_recursion_cycle_with_shortcuts.csv': 'xsb is 5.97 times faster than clingo and clingo is 1.32 times faster than souffle',\n",
       " 'right_recursion_max_acyclic.csv': 'xsb is 2.44 times faster than clingo and clingo is 1.40 times faster than souffle',\n",
       " 'right_recursion_multi_path.csv': 'xsb is 8.52 times faster than clingo and clingo is 1.60 times faster than souffle',\n",
       " 'right_recursion_path.csv': 'xsb is 9.41 times faster than clingo and clingo is 1.92 times faster than souffle',\n",
       " 'right_recursion_reverse_binary_tree.csv': 'xsb is 7.60 times faster than clingo and clingo is 1.81 times faster than souffle',\n",
       " 'right_recursion_star.csv': 'clingo is inf times faster than xsb and xsb is 2.03 times faster than souffle',\n",
       " 'right_recursion_w.csv': 'xsb is 3.46 times faster than clingo and clingo is 1.76 times faster than souffle',\n",
       " 'right_recursion_x.csv': 'xsb is 4.97 times faster than clingo and clingo is 1.91 times faster than souffle',\n",
       " 'right_recursion_y.csv': 'xsb is 9.98 times faster than clingo and clingo is 1.27 times faster than souffle'}"
      ]
     },
     "execution_count": 15,
     "metadata": {},
     "output_type": "execute_result"
    }
   ],
   "source": [
    "right_recursion_speed_results = analyze_speed(csv_files, 'right_recursion')\n",
    "right_recursion_speed_results"
   ]
  }
 ],
 "metadata": {
  "kernelspec": {
   "display_name": "virtualenv",
   "language": "python",
   "name": "python3"
  },
  "language_info": {
   "codemirror_mode": {
    "name": "ipython",
    "version": 3
   },
   "file_extension": ".py",
   "mimetype": "text/x-python",
   "name": "python",
   "nbconvert_exporter": "python",
   "pygments_lexer": "ipython3",
   "version": "3.12.3"
  }
 },
 "nbformat": 4,
 "nbformat_minor": 2
}
