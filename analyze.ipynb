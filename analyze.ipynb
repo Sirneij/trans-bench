{
 "cells": [
  {
   "cell_type": "code",
   "execution_count": 2,
   "metadata": {},
   "outputs": [],
   "source": [
    "from pathlib import Path\n",
    "import pandas as pd\n",
    "import ast"
   ]
  },
  {
   "cell_type": "code",
   "execution_count": 12,
   "metadata": {},
   "outputs": [],
   "source": [
    "def analyze_speed(csv_dir: str, base_file_name: str) -> dict:\n",
    "    graph_csv_files = Path(csv_dir).rglob(f'{base_file_name}*.csv')\n",
    "    results = {}\n",
    "\n",
    "    for csv_file in sorted(graph_csv_files):\n",
    "        try:\n",
    "            df = pd.read_csv(csv_file)\n",
    "            if df.empty:\n",
    "                results[csv_file.name] = 'CSV file is empty.'\n",
    "                continue\n",
    "\n",
    "            df.set_index('Environment', inplace=True)\n",
    "            mean_values = df.mean(axis=1)\n",
    "            sorted_means = mean_values.sort_values(ascending=True)\n",
    "\n",
    "            notes = []\n",
    "            for i in range(len(sorted_means) - 1):\n",
    "                faster_env = sorted_means.index[i]\n",
    "                slower_env = sorted_means.index[i + 1]\n",
    "                if sorted_means.iloc[i + 1] != 0:\n",
    "                    speedup = f'{sorted_means.iloc[i + 1] / sorted_means.iloc[i]:.2f}'\n",
    "                    notes.append(f\"{faster_env} is {speedup} times faster than {slower_env}\")\n",
    "                elif sorted_means.iloc[i] == 0:\n",
    "                    notes.append(f\"{faster_env} and {slower_env} have the same speed\")\n",
    "                else:\n",
    "                    notes.append(f\"{slower_env} is infinitely slower than {faster_env}\")\n",
    "\n",
    "            results[csv_file.name] = ' and '.join(notes) if notes else 'No significant difference in speed.'\n",
    "        except Exception as e:\n",
    "            results[csv_file.name] = f'Error processing file: {str(e)}'\n",
    "\n",
    "    return results"
   ]
  },
  {
   "cell_type": "code",
   "execution_count": 13,
   "metadata": {},
   "outputs": [
    {
     "name": "stderr",
     "output_type": "stream",
     "text": [
      "/var/folders/8w/npw5m4xx43s5l8h9xppvy2jh0000gn/T/ipykernel_77455/3703558015.py:21: RuntimeWarning: divide by zero encountered in scalar divide\n",
      "  speedup = f'{sorted_means.iloc[i + 1] / sorted_means.iloc[i]:.2f}'\n"
     ]
    },
    {
     "data": {
      "text/plain": [
       "{'double_recursion_binary_tree.csv': 'xsb is 4.24 times faster than clingo and clingo is 2.66 times faster than souffle',\n",
       " 'double_recursion_complete.csv': 'xsb is 3.45 times faster than clingo and clingo is 1.77 times faster than souffle',\n",
       " 'double_recursion_cycle.csv': 'xsb is 1.89 times faster than clingo and clingo is 2.86 times faster than souffle',\n",
       " 'double_recursion_cycle_with_shortcuts.csv': 'xsb is 1.80 times faster than clingo and clingo is 2.86 times faster than souffle',\n",
       " 'double_recursion_max_acyclic.csv': 'xsb is 2.40 times faster than clingo and clingo is 2.82 times faster than souffle',\n",
       " 'double_recursion_multi_path.csv': 'xsb is 3.33 times faster than clingo and clingo is 3.05 times faster than souffle',\n",
       " 'double_recursion_path.csv': 'xsb is 2.20 times faster than clingo and clingo is 3.01 times faster than souffle',\n",
       " 'double_recursion_reverse_binary_tree.csv': 'xsb is 5.65 times faster than clingo and clingo is 2.71 times faster than souffle',\n",
       " 'double_recursion_star.csv': 'clingo is inf times faster than xsb and xsb is 3.80 times faster than souffle',\n",
       " 'double_recursion_w.csv': 'xsb is 2.21 times faster than clingo and clingo is 2.79 times faster than souffle',\n",
       " 'double_recursion_x.csv': 'xsb is 2.20 times faster than clingo and clingo is 3.01 times faster than souffle',\n",
       " 'double_recursion_y.csv': 'xsb is 3.53 times faster than clingo and clingo is 2.74 times faster than souffle'}"
      ]
     },
     "execution_count": 13,
     "metadata": {},
     "output_type": "execute_result"
    }
   ],
   "source": [
    "# Get all double_recursion csv files from output/CSVs directory\n",
    "csv_files = Path('output/CSVs')\n",
    "\n",
    "# Analyze speed of double_recursion\n",
    "double_recursion_speed_results = analyze_speed(csv_files, 'double_recursion')\n",
    "double_recursion_speed_results\n",
    "\n"
   ]
  },
  {
   "cell_type": "code",
   "execution_count": 14,
   "metadata": {},
   "outputs": [
    {
     "name": "stderr",
     "output_type": "stream",
     "text": [
      "/var/folders/8w/npw5m4xx43s5l8h9xppvy2jh0000gn/T/ipykernel_77455/3703558015.py:21: RuntimeWarning: divide by zero encountered in scalar divide\n",
      "  speedup = f'{sorted_means.iloc[i + 1] / sorted_means.iloc[i]:.2f}'\n"
     ]
    },
    {
     "data": {
      "text/plain": [
       "{'left_recursion_binary_tree.csv': 'xsb is 5.65 times faster than clingo and clingo is 1.62 times faster than souffle',\n",
       " 'left_recursion_complete.csv': 'xsb is 2.85 times faster than clingo and clingo is 1.62 times faster than souffle',\n",
       " 'left_recursion_cycle.csv': 'xsb is 7.44 times faster than clingo and clingo is 1.63 times faster than souffle',\n",
       " 'left_recursion_cycle_with_shortcuts.csv': 'xsb is 6.87 times faster than clingo and clingo is 1.49 times faster than souffle',\n",
       " 'left_recursion_max_acyclic.csv': 'xsb is 2.04 times faster than clingo and clingo is 1.69 times faster than souffle',\n",
       " 'left_recursion_multi_path.csv': 'xsb is 8.67 times faster than clingo and clingo is 1.36 times faster than souffle',\n",
       " 'left_recursion_path.csv': 'xsb is 7.51 times faster than clingo and clingo is 1.66 times faster than souffle',\n",
       " 'left_recursion_reverse_binary_tree.csv': 'xsb is 7.02 times faster than clingo and clingo is 1.65 times faster than souffle',\n",
       " 'left_recursion_star.csv': 'clingo is inf times faster than xsb and xsb is 3.65 times faster than souffle',\n",
       " 'left_recursion_w.csv': 'xsb is 3.90 times faster than clingo and clingo is 1.56 times faster than souffle',\n",
       " 'left_recursion_x.csv': 'xsb is 2.85 times faster than clingo and clingo is 1.41 times faster than souffle',\n",
       " 'left_recursion_y.csv': 'xsb is 9.13 times faster than clingo and clingo is 1.24 times faster than souffle'}"
      ]
     },
     "execution_count": 14,
     "metadata": {},
     "output_type": "execute_result"
    }
   ],
   "source": [
    "left_recursion_speed_results = analyze_speed(csv_files, 'left_recursion')\n",
    "left_recursion_speed_results"
   ]
  },
  {
   "cell_type": "code",
   "execution_count": 15,
   "metadata": {},
   "outputs": [
    {
     "name": "stderr",
     "output_type": "stream",
     "text": [
      "/var/folders/8w/npw5m4xx43s5l8h9xppvy2jh0000gn/T/ipykernel_77455/3703558015.py:21: RuntimeWarning: divide by zero encountered in scalar divide\n",
      "  speedup = f'{sorted_means.iloc[i + 1] / sorted_means.iloc[i]:.2f}'\n"
     ]
    },
    {
     "data": {
      "text/plain": [
       "{'right_recursion_binary_tree.csv': 'xsb is 5.23 times faster than clingo and clingo is 1.71 times faster than souffle',\n",
       " 'right_recursion_complete.csv': 'xsb is 3.07 times faster than souffle and souffle is 1.15 times faster than clingo',\n",
       " 'right_recursion_cycle.csv': 'xsb is 8.29 times faster than clingo and clingo is 1.65 times faster than souffle',\n",
       " 'right_recursion_cycle_with_shortcuts.csv': 'xsb is 5.97 times faster than clingo and clingo is 1.32 times faster than souffle',\n",
       " 'right_recursion_max_acyclic.csv': 'xsb is 2.44 times faster than clingo and clingo is 1.40 times faster than souffle',\n",
       " 'right_recursion_multi_path.csv': 'xsb is 8.52 times faster than clingo and clingo is 1.60 times faster than souffle',\n",
       " 'right_recursion_path.csv': 'xsb is 9.41 times faster than clingo and clingo is 1.92 times faster than souffle',\n",
       " 'right_recursion_reverse_binary_tree.csv': 'xsb is 7.60 times faster than clingo and clingo is 1.81 times faster than souffle',\n",
       " 'right_recursion_star.csv': 'clingo is inf times faster than xsb and xsb is 2.03 times faster than souffle',\n",
       " 'right_recursion_w.csv': 'xsb is 3.46 times faster than clingo and clingo is 1.76 times faster than souffle',\n",
       " 'right_recursion_x.csv': 'xsb is 4.97 times faster than clingo and clingo is 1.91 times faster than souffle',\n",
       " 'right_recursion_y.csv': 'xsb is 9.98 times faster than clingo and clingo is 1.27 times faster than souffle'}"
      ]
     },
     "execution_count": 15,
     "metadata": {},
     "output_type": "execute_result"
    }
   ],
   "source": [
    "right_recursion_speed_results = analyze_speed(csv_files, 'right_recursion')\n",
    "right_recursion_speed_results"
   ]
  },
  {
   "cell_type": "code",
   "execution_count": 6,
   "metadata": {},
   "outputs": [],
   "source": [
    "# Load the data from the provided file\n",
    "file_path = 'data.txt'  # Adjust this path to your local file location\n",
    "with open(file_path, 'r') as file:\n",
    "    data = ast.literal_eval(file.read())\n",
    "\n",
    "# Extract the relevant data for analysis\n",
    "records = []\n",
    "\n",
    "for (environment, graph_type, recursion_variant), entries in data.items():\n",
    "    for entry in entries:\n",
    "        size, metrics = entry\n",
    "        for metric_name, (real_time, cpu_time) in metrics.items():\n",
    "            if 'Query' in metric_name:\n",
    "                records.append({\n",
    "                    'environment': environment,\n",
    "                    'graph_type': graph_type,\n",
    "                    'recursion_variant': recursion_variant,\n",
    "                    'size': size,\n",
    "                    'metric_name': metric_name,\n",
    "                    'real_time': real_time,\n",
    "                    'cpu_time': cpu_time\n",
    "                })\n",
    "\n",
    "# Create a DataFrame for easier analysis\n",
    "df = pd.DataFrame(records)\n",
    "\n",
    "# Ensure the environments are unique in the sorting process\n",
    "unique_records = []\n",
    "\n",
    "for (environment, graph_type, recursion_variant), entries in data.items():\n",
    "    for entry in entries:\n",
    "        size, metrics = entry\n",
    "        for metric_name, (real_time, cpu_time) in metrics.items():\n",
    "            if 'Query' in metric_name:\n",
    "                unique_records.append({\n",
    "                    'environment': environment,\n",
    "                    'graph_type': graph_type,\n",
    "                    'recursion_variant': recursion_variant,\n",
    "                    'size': size,\n",
    "                    'metric_name': metric_name,\n",
    "                    'real_time': real_time,\n",
    "                    'cpu_time': cpu_time\n",
    "                })\n",
    "\n",
    "# Create a DataFrame for unique environments\n",
    "unique_df = pd.DataFrame(unique_records).drop_duplicates(subset=['environment', 'graph_type', 'recursion_variant', 'metric_name'])\n",
    "\n",
    "# Group by 'graph_type' and 'recursion_variant', and then sort by 'real_time' and 'cpu_time'\n",
    "unique_result = {}\n",
    "grouped_unique = unique_df.groupby(['graph_type', 'recursion_variant'])\n",
    "\n",
    "for name, group in grouped_unique:\n",
    "    graph_type, recursion_variant = name\n",
    "    group_sorted_by_real_time = group.sort_values(by='real_time')\n",
    "    group_sorted_by_cpu_time = group.sort_values(by='cpu_time')\n",
    "    unique_result[name] = {\n",
    "        'sorted_by_real_time': group_sorted_by_real_time[['environment', 'real_time', 'size']].reset_index(drop=True),\n",
    "        'sorted_by_cpu_time': group_sorted_by_cpu_time[['environment', 'cpu_time', 'size']].reset_index(drop=True)\n",
    "    }\n",
    "\n",
    "# Correct calculation of factors and handling lengths correctly\n",
    "final_tables = {}\n",
    "\n",
    "# Generate the required tables for real_time and cpu_time for left and right recursion\n",
    "for key in unique_result:\n",
    "    graph_type, recursion_variant = key\n",
    "    sorted_by_real_time = unique_result[key]['sorted_by_real_time']\n",
    "    sorted_by_cpu_time = unique_result[key]['sorted_by_cpu_time']\n",
    "    \n",
    "    factors_real_time = [None] + (sorted_by_real_time['real_time'].iloc[:-1].values / sorted_by_real_time['real_time'].iloc[1:].values).tolist()\n",
    "    factors_cpu_time = [None] + (sorted_by_cpu_time['cpu_time'].iloc[:-1].values / sorted_by_cpu_time['cpu_time'].iloc[1:].values).tolist()\n",
    "    \n",
    "    real_time_table = sorted_by_real_time.copy()\n",
    "    real_time_table['position'] = range(1, len(real_time_table) + 1)\n",
    "    real_time_table['factor'] = factors_real_time\n",
    "    \n",
    "    cpu_time_table = sorted_by_cpu_time.copy()\n",
    "    cpu_time_table['position'] = range(1, len(cpu_time_table) + 1)\n",
    "    cpu_time_table['factor'] = factors_cpu_time\n",
    "    \n",
    "    if (graph_type, 'real_time') not in final_tables:\n",
    "        final_tables[(graph_type, 'real_time')] = {}\n",
    "    if (graph_type, 'cpu_time') not in final_tables:\n",
    "        final_tables[(graph_type, 'cpu_time')] = {}\n",
    "    \n",
    "    final_tables[(graph_type, 'real_time')][recursion_variant] = real_time_table\n",
    "    final_tables[(graph_type, 'cpu_time')][recursion_variant] = cpu_time_table\n",
    "\n",
    "# Export the tables to CSV files with the specified folder structure\n",
    "for key, tables in final_tables.items():\n",
    "    graph_type, time_type = key\n",
    "    \n",
    "    for recursion_variant, table in tables.items():\n",
    "        variant_dir = Path(f\"analysis/{graph_type}/{recursion_variant}\")\n",
    "        variant_dir.mkdir(parents=True, exist_ok=True)\n",
    "        \n",
    "        file_path = variant_dir / f\"{time_type}_times.csv\"\n",
    "        table.to_csv(file_path, index=False, mode='a', header=not file_path.exists())"
   ]
  }
 ],
 "metadata": {
  "kernelspec": {
   "display_name": "virtualenv",
   "language": "python",
   "name": "python3"
  },
  "language_info": {
   "codemirror_mode": {
    "name": "ipython",
    "version": 3
   },
   "file_extension": ".py",
   "mimetype": "text/x-python",
   "name": "python",
   "nbconvert_exporter": "python",
   "pygments_lexer": "ipython3",
   "version": "3.10.12"
  }
 },
 "nbformat": 4,
 "nbformat_minor": 2
}
